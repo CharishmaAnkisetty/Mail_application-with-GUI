{
 "cells": [
  {
   "cell_type": "code",
   "execution_count": 1,
   "id": "e18936af",
   "metadata": {},
   "outputs": [
    {
     "name": "stdout",
     "output_type": "stream",
     "text": [
      "pygame 2.5.0 (SDL 2.28.0, Python 3.9.12)\n",
      "Hello from the pygame community. https://www.pygame.org/contribute.html\n"
     ]
    }
   ],
   "source": [
    "from tkinter import *\n",
    "import smtplib\n",
    "\n",
    "\n",
    "master = Tk()\n",
    "master.title('Custom Email App')\n",
    "\n",
    "# Functions\n",
    "def send_email():\n",
    "    try: \n",
    "        username = temp_username.get()\n",
    "        password = temp_password.get()\n",
    "        to = temp_receiver.get()\n",
    "        subject = temp_subject.get()\n",
    "        body = temp_body.get()\n",
    "        \n",
    "        if username == \"\" or password == \"\" or to == \"\" or subject == \"\" or body == \"\":\n",
    "            notif.config(text=\"All fields required\", fg=\"red\")\n",
    "            return\n",
    "        else:\n",
    "            final_message = 'Subject: {}\\n\\n{}'.format(subject, body)\n",
    "            server = smtplib.SMTP('smtp.example.com', 587)\n",
    "            server.starttls()\n",
    "            server.login(username, password)\n",
    "            server.sendmail(username, to, final_message)\n",
    "            notif.config(text=\"Email has been sent successfully\", fg=\"green\")\n",
    "    except:\n",
    "        notif.config(text=\"Error sending email\", fg=\"red\")\n",
    "\n",
    "\n",
    "def reset_fields():\n",
    "    username_entry.delete(0, 'end')\n",
    "    password_entry.delete(0, 'end')\n",
    "    receiver_entry.delete(0, 'end')\n",
    "    subject_entry.delete(0, 'end')\n",
    "    body_entry.delete(0, 'end')\n",
    "\n",
    "\n",
    "Label(master, text=\"Custom Email App\", font=('Calibri', 15)).grid(row=0, sticky=N)\n",
    "Label(master, text=\"Please use the form below to send an email\", font=('Calibri', 11)).grid(row=1, sticky=W, padx=5, pady=10)\n",
    "\n",
    "Label(master, text=\"Email\", font=('Calibri', 11)).grid(row=2, sticky=W, padx=5)\n",
    "Label(master, text=\"Password\", font=('Calibri', 11)).grid(row=3, sticky=W, padx=5)\n",
    "Label(master, text=\"To\", font=('Calibri', 11)).grid(row=4, sticky=W, padx=5)\n",
    "Label(master, text=\"Subject\", font=('Calibri', 11)).grid(row=5, sticky=W, padx=5)\n",
    "Label(master, text=\"Body\", font=('Calibri', 11)).grid(row=6, sticky=W, padx=5)\n",
    "notif = Label(master, text=\"\", font=('Calibri', 11))\n",
    "notif.grid(row=7, sticky=S, padx=5)\n",
    "\n",
    "\n",
    "temp_username = StringVar()\n",
    "temp_password = StringVar()\n",
    "temp_receiver = StringVar()\n",
    "temp_subject = StringVar()\n",
    "temp_body = StringVar()\n",
    "\n",
    "\n",
    "username_entry = Entry(master, textvariable=temp_username)\n",
    "username_entry.grid(row=2, column=0)\n",
    "password_entry = Entry(master, show=\"*\", textvariable=temp_password)\n",
    "password_entry.grid(row=3, column=0)\n",
    "receiver_entry = Entry(master, textvariable=temp_receiver)\n",
    "receiver_entry.grid(row=4, column=0)\n",
    "subject_entry = Entry(master, textvariable=temp_subject)\n",
    "subject_entry.grid(row=5, column=0)\n",
    "body_entry = Entry(master, textvariable=temp_body)\n",
    "body_entry.grid(row=6, column=0)\n",
    "\n",
    "\n",
    "Button(master, text=\"Send Email\", command=send_email).grid(row=7, sticky=W, pady=15, padx=5)\n",
    "Button(master, text=\"Reset Fields\", command=reset_fields).grid(row=7, sticky=W, padx=45, pady=40)\n",
    "\n",
    "\n",
    "master.mainloop()"
   ]
  },
  {
   "cell_type": "code",
   "execution_count": null,
   "id": "179807dd",
   "metadata": {},
   "outputs": [],
   "source": []
  }
 ],
 "metadata": {
  "kernelspec": {
   "display_name": "Python 3 (ipykernel)",
   "language": "python",
   "name": "python3"
  },
  "language_info": {
   "codemirror_mode": {
    "name": "ipython",
    "version": 3
   },
   "file_extension": ".py",
   "mimetype": "text/x-python",
   "name": "python",
   "nbconvert_exporter": "python",
   "pygments_lexer": "ipython3",
   "version": "3.9.12"
  }
 },
 "nbformat": 4,
 "nbformat_minor": 5
}
